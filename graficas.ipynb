{
 "cells": [
  {
   "cell_type": "markdown",
   "metadata": {},
   "source": [
    "# Gráficas para estudio de reservas en Guatemala"
   ]
  },
  {
   "cell_type": "code",
   "execution_count": 101,
   "metadata": {},
   "outputs": [],
   "source": [
    "import pandas as pd\n",
    "import matplotlib.pyplot as plt \n",
    "import seaborn as sns\n",
    "import numpy as np\n",
    "from statsmodels.tsa.seasonal import seasonal_decompose\n",
    "from statsmodels.tsa.arima.model import ARIMA\n",
    "from statsmodels.graphics.tsaplots import plot_acf, plot_pacf\n",
    "from pmdarima.arima import auto_arima"
   ]
  },
  {
   "cell_type": "code",
   "execution_count": null,
   "metadata": {},
   "outputs": [],
   "source": [
    "reservas = pd.read_excel(\"db/datos_reservas.xlsx\")"
   ]
  },
  {
   "cell_type": "code",
   "execution_count": null,
   "metadata": {},
   "outputs": [],
   "source": [
    "reservas"
   ]
  },
  {
   "cell_type": "code",
   "execution_count": null,
   "metadata": {},
   "outputs": [],
   "source": [
    "plt.figure(figsize=(15, 8))\n",
    "sns.lineplot(data=reservas.melt('Mes', var_name='Año', value_name='Reservas'), x='Mes', y='Reservas', hue='Año', marker='o', palette=[\"#19315F\", \"#F48401\", \"#BDDB05\", \"#11C876\", \"#879484\", \"#BC2EE6\", \"#621A22\"])\n",
    "\n",
    "plt.xticks(rotation=45)\n",
    "plt.title('Reservas Bancarias por Año')\n",
    "plt.xlabel('Mes')\n",
    "plt.ylabel('Reservas en millones de quetzales')\n",
    "\n",
    "# Mueve la leyenda fuera del gráfico, a la parte superior derecha\n",
    "plt.legend(title='Año', loc='upper left', bbox_to_anchor=(1, 1))\n",
    "\n",
    "plt.show()"
   ]
  },
  {
   "cell_type": "markdown",
   "metadata": {},
   "source": [
    "## Calcular variaciones intermensuales e interanuales"
   ]
  },
  {
   "cell_type": "code",
   "execution_count": null,
   "metadata": {},
   "outputs": [],
   "source": [
    "# Variaciones intermensuales\n",
    "int_mensuales = reservas[[i for i in range(2018, 2024)]].diff().fillna(0)\n",
    "int_mensuales"
   ]
  },
  {
   "cell_type": "code",
   "execution_count": null,
   "metadata": {},
   "outputs": [],
   "source": [
    "# Hacer diccionario con estadísticos por año\n",
    "est_anuales = {i: [0,0,0,0] for i in range(2018,2024)}\n",
    "for i in range(2018, 2024):\n",
    "    est_anuales[i][0] = reservas[i].mean()\n",
    "    est_anuales[i][1] = reservas[i].var()\n",
    "    est_anuales[i][2] = reservas[i].min()\n",
    "    est_anuales[i][3] = reservas[i].max()\n",
    "\n",
    "df_est_anuales = pd.DataFrame.from_dict(est_anuales, orient=\"index\", columns=[\"Promedio\", \"Varianza\", \"Mínimo\", \"Máximo\"])\n",
    "df_est_anuales.index.name = \"Año\"\n",
    "\n",
    "df_est_anuales"
   ]
  },
  {
   "cell_type": "markdown",
   "metadata": {},
   "source": [
    "## Análisis de reservas e inflación"
   ]
  },
  {
   "cell_type": "code",
   "execution_count": null,
   "metadata": {},
   "outputs": [],
   "source": [
    "reservas_iniciales_anuales = reservas[reservas[\"Mes\"] == \"Enero\"]\n",
    "ritmo_inflacionario = pd.read_excel(\"db/Ritmo_inflacionario.xlsx\")"
   ]
  },
  {
   "cell_type": "code",
   "execution_count": null,
   "metadata": {},
   "outputs": [],
   "source": [
    "ritmo_inflacionario"
   ]
  },
  {
   "cell_type": "code",
   "execution_count": null,
   "metadata": {},
   "outputs": [],
   "source": [
    "dic_proyeccion = {i: [None]*12 for i in range(2018, 2024)}\n",
    "dic_proyeccion[\"Mes\"] = ritmo_inflacionario[\"Año\"].tolist()\n",
    "df_proyeccion = pd.DataFrame.from_dict(dic_proyeccion)\n",
    "df_proyeccion = df_proyeccion[[\"Mes\", 2018, 2019, 2020, 2021, 2022, 2023]]"
   ]
  },
  {
   "cell_type": "code",
   "execution_count": null,
   "metadata": {},
   "outputs": [],
   "source": [
    "for i in range(2018, 2024):\n",
    "    for j in range(0, 12):\n",
    "        if j == 0:\n",
    "            df_proyeccion.loc[0, i] = reservas.loc[0, i]\n",
    "        else:\n",
    "           df_proyeccion.loc[j, i] = df_proyeccion.loc[j-1, i] * (1 + ritmo_inflacionario.loc[j-1,i] / 100)"
   ]
  },
  {
   "cell_type": "code",
   "execution_count": null,
   "metadata": {},
   "outputs": [],
   "source": [
    "df_proyeccion"
   ]
  },
  {
   "cell_type": "code",
   "execution_count": null,
   "metadata": {},
   "outputs": [],
   "source": [
    "# Combinar dfs para poder graficar\n",
    "df_combinado = reservas.join(df_proyeccion, lsuffix=\"_re\", rsuffix=\"_pro\")\n",
    "plt.figure(figsize=(10, 12))\n",
    "\n",
    "for year in range(2018, 2024):  # Asumiendo que tienes datos de 2018 a 2023.\n",
    "    plt.figure(figsize=(10, 5))  # Crea una nueva figura para cada año.\n",
    "    plt.plot(df_combinado[\"Mes_re\"], df_combinado[str(year) + '_re'], marker='o', label='Reservas reportadas', color=\"#FF0000\")\n",
    "    plt.plot(df_combinado[\"Mes_re\"], df_combinado[str(year) + '_pro'], marker='o', linestyle='--', label='Proyección con ritmo inflacionario', color=\"#0000ff\")\n",
    "    \n",
    "    plt.title(f'Reservas Bancarias - {year}')\n",
    "    plt.xlabel('Mes')\n",
    "    plt.xticks(rotation=25)\n",
    "    plt.ylabel('Reservas en millones de quetzales')\n",
    "    plt.legend()\n",
    "    plt.grid(True)\n",
    "    \n",
    "    # Guarda la figura en un archivo.\n",
    "    # Reemplaza 'ruta/del/directorio' con la ruta real donde deseas guardar los archivos.\n",
    "    plt.savefig(f'imagenes/reservas_{year}.png', bbox_inches=\"tight\")\n",
    "    plt.close()  # Cierra la figura para evitar el sobreplotting."
   ]
  },
  {
   "cell_type": "markdown",
   "metadata": {},
   "source": [
    "## Segundo Análsis de inflación"
   ]
  },
  {
   "cell_type": "code",
   "execution_count": null,
   "metadata": {},
   "outputs": [],
   "source": [
    "dic_retro = {i: [None]*12 for i in range(2018, 2024)}\n",
    "dic_retro[\"Mes\"] = ritmo_inflacionario[\"Año\"].tolist()\n",
    "df_retro = pd.DataFrame.from_dict(dic_proyeccion)\n",
    "df_retro = df_retro[[\"Mes\", 2018, 2019, 2020, 2021, 2022, 2023]]"
   ]
  },
  {
   "cell_type": "code",
   "execution_count": null,
   "metadata": {},
   "outputs": [],
   "source": [
    "for i in range(2018, 2024):\n",
    "    for j in range(0, 12):\n",
    "        if j == 0:\n",
    "            df_retro.loc[0, i] = reservas.loc[0, i]\n",
    "        else:\n",
    "           df_retro.loc[j, i] = df_retro.loc[j-1, i] * (1 - ritmo_inflacionario.loc[j-1,i] / 100)\n",
    "            "
   ]
  },
  {
   "cell_type": "code",
   "execution_count": null,
   "metadata": {},
   "outputs": [],
   "source": [
    "df_retro"
   ]
  },
  {
   "cell_type": "code",
   "execution_count": null,
   "metadata": {},
   "outputs": [],
   "source": [
    "# Combinar dfs para poder graficar\n",
    "df_combinado_2 = reservas.join(df_retro, lsuffix=\"_re\", rsuffix=\"_retro\")\n",
    "plt.figure(figsize=(10, 12))\n",
    "\n",
    "for year in range(2018, 2024):  # Asumiendo que tienes datos de 2018 a 2023.\n",
    "    plt.figure(figsize=(10, 5))  # Crea una nueva figura para cada año.\n",
    "    plt.plot(df_combinado_2[\"Mes_re\"], df_combinado_2[str(year) + '_re'], marker='o', label='Reservas reportadas', color=\"#FF0000\")\n",
    "    plt.plot(df_combinado_2[\"Mes_re\"], df_combinado_2[str(year) + '_retro'], marker='o', linestyle='--', label='Proyección sin ritmo inflacionario', color=\"#0000ff\")\n",
    "    \n",
    "    plt.title(f'Reservas Bancarias - {year}')\n",
    "    plt.xlabel('Mes')\n",
    "    plt.xticks(rotation=25)\n",
    "    plt.ylabel('Reservas en millones de quetzales')\n",
    "    plt.legend()\n",
    "    plt.grid(True)\n",
    "    \n",
    "    # Guarda la figura en un archivo.\n",
    "    # Reemplaza 'ruta/del/directorio' con la ruta real donde deseas guardar los archivos.\n",
    "    plt.savefig(f'imagenes/retro_{year}.png', bbox_inches=\"tight\")\n",
    "    plt.close()  # Cierra la figura para evitar el sobreplotting."
   ]
  },
  {
   "cell_type": "markdown",
   "metadata": {},
   "source": [
    "## Modelo ARIMA"
   ]
  },
  {
   "cell_type": "code",
   "execution_count": null,
   "metadata": {},
   "outputs": [],
   "source": [
    "# Retomar los df de ritmo inflacionario y el de reservas para hacer arima\n",
    "serie_inflacion = []\n",
    "tiempo = []\n",
    "for i in range(2018, 2023):\n",
    "    serie_inflacion += list(ritmo_inflacionario[i])\n",
    "\n",
    "for i in range(2018, 2023):\n",
    "    for j in range(1, 13):\n",
    "        tiempo.append(f\"01/{j}/{i}\")\n",
    "\n",
    "# Hacer df para arima con datos de inflacion \n",
    "dic_arima_inflacion = {\"Tiempo\": tiempo, \"Inflación\": serie_inflacion}\n",
    "df_arima_inflacion = pd.DataFrame.from_dict(dic_arima_inflacion)\n",
    "df_arima_inflacion[\"Tiempo\"] = pd.to_datetime(df_arima_inflacion[\"Tiempo\"])\n",
    "df_arima_inflacion[\"Inflación\"] = df_arima_inflacion[\"Inflación\"].astype(\"float\")\n",
    "df_arima_inflacion.set_index(\"Tiempo\", inplace=True)\n",
    "\n",
    "# Repetir para datos de reservas\n",
    "serie_reservas = []\n",
    "for i in range(2018, 2023):\n",
    "    serie_reservas += list(reservas[i])\n",
    "\n",
    "# Hacer df para arima con datos de reservas \n",
    "dic_arima_reservas = {\"Tiempo\": tiempo, \"Reservas\": serie_reservas}\n",
    "df_arima_reservas = pd.DataFrame.from_dict(dic_arima_reservas)\n",
    "df_arima_reservas[\"Tiempo\"] = pd.to_datetime(df_arima_reservas[\"Tiempo\"])\n",
    "df_arima_reservas[\"Reservas\"] = df_arima_reservas[\"Reservas\"].astype(\"float\")\n",
    "df_arima_reservas.set_index(\"Tiempo\", inplace=True)\n"
   ]
  },
  {
   "cell_type": "code",
   "execution_count": null,
   "metadata": {},
   "outputs": [],
   "source": [
    "def hallar_parametros_arima(df, variables):\n",
    "    modelo_var = {var : (0,0,0) for var in variables}\n",
    "    for var in variables:\n",
    "        modelo = auto_arima(df[var], max_p=100, max_d=5, max_q=100)\n",
    "        modelo_var[var] = modelo.order\n",
    "    return modelo_var"
   ]
  },
  {
   "cell_type": "code",
   "execution_count": 96,
   "metadata": {},
   "outputs": [
    {
     "name": "stderr",
     "output_type": "stream",
     "text": [
      "c:\\Users\\Mariajose\\AppData\\Local\\Programs\\Python\\Python312\\Lib\\site-packages\\statsmodels\\tsa\\base\\tsa_model.py:473: ValueWarning: A date index has been provided, but it has no associated frequency information and so will be ignored when e.g. forecasting.\n",
      "  self._init_dates(dates, freq)\n",
      "c:\\Users\\Mariajose\\AppData\\Local\\Programs\\Python\\Python312\\Lib\\site-packages\\statsmodels\\tsa\\base\\tsa_model.py:473: ValueWarning: A date index has been provided, but it has no associated frequency information and so will be ignored when e.g. forecasting.\n",
      "  self._init_dates(dates, freq)\n",
      "c:\\Users\\Mariajose\\AppData\\Local\\Programs\\Python\\Python312\\Lib\\site-packages\\statsmodels\\tsa\\base\\tsa_model.py:473: ValueWarning: A date index has been provided, but it has no associated frequency information and so will be ignored when e.g. forecasting.\n",
      "  self._init_dates(dates, freq)\n",
      "c:\\Users\\Mariajose\\AppData\\Local\\Programs\\Python\\Python312\\Lib\\site-packages\\statsmodels\\tsa\\base\\tsa_model.py:473: ValueWarning: A date index has been provided, but it has no associated frequency information and so will be ignored when e.g. forecasting.\n",
      "  self._init_dates(dates, freq)\n",
      "c:\\Users\\Mariajose\\AppData\\Local\\Programs\\Python\\Python312\\Lib\\site-packages\\statsmodels\\tsa\\base\\tsa_model.py:473: ValueWarning: A date index has been provided, but it has no associated frequency information and so will be ignored when e.g. forecasting.\n",
      "  self._init_dates(dates, freq)\n",
      "c:\\Users\\Mariajose\\AppData\\Local\\Programs\\Python\\Python312\\Lib\\site-packages\\statsmodels\\tsa\\base\\tsa_model.py:473: ValueWarning: A date index has been provided, but it has no associated frequency information and so will be ignored when e.g. forecasting.\n",
      "  self._init_dates(dates, freq)\n"
     ]
    }
   ],
   "source": [
    "# Hallar parámetros para arima\n",
    "parametros_inflacion = hallar_parametros_arima(df_arima_inflacion, [\"Inflación\"])[\"Inflación\"]\n",
    "parametros_reservas = hallar_parametros_arima(df_arima_reservas, [\"Reservas\"])[\"Reservas\"]\n",
    "\n",
    "\n",
    "# Aplicar ARIMA\n",
    "modelo_inflacion = ARIMA(df_arima_inflacion, order=parametros_inflacion)\n",
    "modelo_fit_inflacion = modelo_inflacion.fit()\n",
    "\n",
    "modelo_reservas = ARIMA(df_arima_reservas, order=parametros_reservas)\n",
    "modelo_fit_reservas = modelo_reservas.fit()"
   ]
  },
  {
   "cell_type": "code",
   "execution_count": 102,
   "metadata": {},
   "outputs": [
    {
     "name": "stderr",
     "output_type": "stream",
     "text": [
      "c:\\Users\\Mariajose\\AppData\\Local\\Programs\\Python\\Python312\\Lib\\site-packages\\statsmodels\\tsa\\base\\tsa_model.py:836: ValueWarning: No supported index is available. Prediction results will be given with an integer index beginning at `start`.\n",
      "  return get_prediction_index(\n",
      "c:\\Users\\Mariajose\\AppData\\Local\\Programs\\Python\\Python312\\Lib\\site-packages\\statsmodels\\tsa\\base\\tsa_model.py:836: FutureWarning: No supported index is available. In the next version, calling this method in a model without a supported index will result in an exception.\n",
      "  return get_prediction_index(\n",
      "c:\\Users\\Mariajose\\AppData\\Local\\Programs\\Python\\Python312\\Lib\\site-packages\\statsmodels\\tsa\\base\\tsa_model.py:836: ValueWarning: No supported index is available. Prediction results will be given with an integer index beginning at `start`.\n",
      "  return get_prediction_index(\n"
     ]
    }
   ],
   "source": [
    "# Predecir futuro\n",
    "predicciones_inflacion = modelo_fit_inflacion.get_forecast(steps=24)\n",
    "predicciones_reservas = modelo_fit_reservas.get_forecast(steps=24)"
   ]
  },
  {
   "cell_type": "code",
   "execution_count": null,
   "metadata": {},
   "outputs": [],
   "source": []
  }
 ],
 "metadata": {
  "kernelspec": {
   "display_name": "Python 3",
   "language": "python",
   "name": "python3"
  },
  "language_info": {
   "codemirror_mode": {
    "name": "ipython",
    "version": 3
   },
   "file_extension": ".py",
   "mimetype": "text/x-python",
   "name": "python",
   "nbconvert_exporter": "python",
   "pygments_lexer": "ipython3",
   "version": "3.12.0"
  }
 },
 "nbformat": 4,
 "nbformat_minor": 2
}
